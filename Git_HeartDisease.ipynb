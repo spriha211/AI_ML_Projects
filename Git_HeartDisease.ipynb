{
  "cells": [
    {
      "cell_type": "markdown",
      "metadata": {
        "id": "kcUld0dFSh7D"
      },
      "source": [
        "#Diagnosing Heart Disease with AI: Deploying our Model\n"
      ]
    },
    {
      "cell_type": "code",
      "execution_count": null,
      "metadata": {
        "id": "yBh8rhqDjjbT",
        "cellView": "form"
      },
      "outputs": [],
      "source": [
        "#@title Run this to load our tools and data!\n",
        "\n",
        "#Check out this post for more details! https://www.kaggle.com/ronitf/heart-disease-uci/discussion/105877\n",
        "\n",
        "import pandas as pd   # Great for tables (google spreadsheets, microsoft excel, csv).\n",
        "import os # Good for navigating your computer's files\n",
        "import gdown\n",
        "import seaborn as sns\n",
        "from sklearn.metrics import accuracy_score\n",
        "from sklearn import tree\n",
        "import matplotlib.pyplot as plt\n",
        "from sklearn.tree import DecisionTreeClassifier\n",
        "from joblib import dump, load\n",
        "\n",
        "import warnings\n",
        "warnings.filterwarnings(\"ignore\")\n",
        "!pip install protobuf==4.21.1 > /dev/null 2>&1\n",
        "!pip -q install streamlit > /dev/null 2>&1\n",
        "!pip -q install pyngrok > /dev/null 2>&1\n",
        "from pyngrok import ngrok\n",
        "\n",
        "!wget -q --show-progress \"https://storage.googleapis.com/inspirit-ai-data-bucket-1/Data/AI%20Pioneers/Heart%20Disease/heart.csv\"\n",
        "patient_data = pd.read_csv(\"heart.csv\")\n",
        "patient_data = patient_data[['age', 'sex', 'cp', 'trestbps', 'chol', 'fbs', 'thalach', 'exang', 'target']]\n",
        "column_names = {'age':'age','sex':'sex','cp':'chest_pain', 'trestbps':'blood_pressure','chol':'cholesterol','fbs':'high_blood_sugar','thalach':'heart_rate','exang':'exercise_pain','target':'disease'}\n",
        "patient_data = patient_data.rename(column_names,axis=1)\n",
        "patient_data['chest_pain'] = (patient_data['chest_pain'] > 0).astype(int) #1 for yes, 0 for no\n",
        "patient_data['disease'] = 1 - patient_data['disease'] #1 for yes, 0 for no\n",
        "patient_data = patient_data[['age', 'blood_pressure',  'cholesterol', 'heart_rate', 'sex', 'high_blood_sugar', 'chest_pain', 'exercise_pain', 'disease']]\n",
        "\n",
        "def show_predictions(predictions, feature = None):\n",
        "  if feature:\n",
        "    feature.append('disease')\n",
        "    df = patient_data[feature].copy()\n",
        "  else:\n",
        "    df = patient_data[['disease']].copy()\n",
        "  df['prediction'] = predictions\n",
        "  print (\"Percent accurate:\", accuracy_score(patient_data['disease'], predictions))\n",
        "  display(df)\n",
        "\n",
        "def visualize_tree(model, input_data):\n",
        "  fig_size = min(model.max_depth * 2, 40)\n",
        "  fig, axes = plt.subplots(nrows = 1,ncols = 1,figsize = (fig_size,fig_size), dpi=800)\n",
        "  tree.plot_tree(model,\n",
        "                class_names=['healthy (no disease)', 'sick (disease)'],\n",
        "                feature_names = input_data.columns,\n",
        "                filled = True,\n",
        "                impurity = False)\n",
        "\n",
        "def launch_website():\n",
        "  print (\"Click this link to try your web app:\")\n",
        "  if (ngrok.get_tunnels() != None):\n",
        "    ngrok.kill()\n",
        "  tunnel = ngrok.connect() # The URL to connect to\n",
        "  print (tunnel.public_url)\n",
        "  !streamlit run --server.port 80 app.py >/dev/null # Connect to the URL through Port 80 (>/dev/null hides outputs)"
      ]
    },
    {
      "cell_type": "code",
      "execution_count": null,
      "metadata": {
        "id": "laedrIBAIBa7"
      },
      "outputs": [],
      "source": [
        "# STEP 1: Prepare your data\n",
        "features = ['blood_pressure', 'heart_rate']\n",
        "input_data = patient_data[features]\n",
        "output_data = None # FILL ME IN\n",
        "\n",
        "\n",
        "# STEP 2: Prepare your model\n",
        "# YOUR CODE HERE (1 line)\n",
        "\n",
        "# STEP 3: Train your model\n",
        "# YOUR CODE HERE (1 line)\n",
        "\n",
        "# STEP 4: Make and show predictions\n",
        "# YOUR CODE HERE (2 lines)\n",
        "\n",
        "# STEP 5: Visualize your tree\n",
        "# YOUR CODE HERE (1 line)"
      ]
    },
    {
      "cell_type": "code",
      "execution_count": null,
      "metadata": {
        "id": "qtZIXRKRa-qy"
      },
      "outputs": [],
      "source": [
        "input_data.head(1)"
      ]
    },
    {
      "cell_type": "code",
      "execution_count": null,
      "metadata": {
        "id": "3Dd9WsQ0bG_h"
      },
      "outputs": [],
      "source": [
        "blood_pressure = 0 # FILL IN A NUMBER\n",
        "heart_rate = 0 # FILL IN A NUMBER\n",
        "input_features = [[blood_pressure, heart_rate]]\n",
        "print (\"This patient's features:\", input_features)"
      ]
    },
    {
      "cell_type": "code",
      "execution_count": null,
      "metadata": {
        "id": "-cHxrtGDbehW"
      },
      "outputs": [],
      "source": [
        "prediction = None # YOUR CODE HERE (1 line)\n",
        "print (\"This patient's diagnosis:\", prediction) # You may get a UserWarning error. That's okay!"
      ]
    },
    {
      "cell_type": "code",
      "execution_count": null,
      "metadata": {
        "id": "wzoAd9WJBeem"
      },
      "outputs": [],
      "source": [
        "dump(tree_model, \"model.joblib\")"
      ]
    },
    {
      "cell_type": "code",
      "execution_count": null,
      "metadata": {
        "id": "Oy8HPXLocXUx"
      },
      "outputs": [],
      "source": [
        "%%writefile header.py\n",
        "import streamlit as st\n",
        "\n",
        "def create_header():\n",
        "  st.title(\"\")     # YOUR CODE HERE\n",
        "  st.header(\"\")    # YOUR CODE HERE\n",
        "  st.subheader(\"\") # YOUR CODE HERE"
      ]
    },
    {
      "cell_type": "code",
      "source": [
        "%%writefile userinput.py\n",
        "import streamlit as st\n",
        "\n",
        "def get_user_input():\n",
        "  # YOUR CODE HERE (Ask users to enter features!)\n",
        "  # YOUR CODE HERE (Ask users to enter features!)\n",
        "  input_features = [[None, None]] # put your features in here!\n",
        "  return input_features"
      ],
      "metadata": {
        "id": "320gGBIx5UVb"
      },
      "execution_count": null,
      "outputs": []
    },
    {
      "cell_type": "code",
      "source": [
        "%%writefile predictor.py\n",
        "\n",
        "def make_prediction(model, input_features):\n",
        "  return model.predict(None) # Fill this in!"
      ],
      "metadata": {
        "id": "C2dqhKTV5ZoQ"
      },
      "execution_count": null,
      "outputs": []
    }
  ],
  "metadata": {
    "colab": {
      "provenance": []
    },
    "kernelspec": {
      "display_name": "Python 3",
      "name": "python3"
    }
  },
  "nbformat": 4,
  "nbformat_minor": 0
}