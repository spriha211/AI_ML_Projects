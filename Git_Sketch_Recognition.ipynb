{
  "nbformat": 4,
  "nbformat_minor": 0,
  "metadata": {
    "accelerator": "GPU",
    "colab": {
      "provenance": []
    },
    "kernelspec": {
      "display_name": "Python 3",
      "name": "python3"
    }
  },
  "cells": [
    {
      "cell_type": "code",
      "metadata": {
        "id": "wwSh-mqfDx7m",
        "cellView": "form"
      },
      "source": [
        "#@title <font color=deepskyblue><b>Run this to set up your environment! (Ignore errors!) </b></font>\n",
        "import warnings\n",
        "warnings.filterwarnings('ignore')\n",
        "\n",
        "from google.colab import files\n",
        "from IPython.display import HTML, Image\n",
        "import zipfile\n",
        "\n",
        "!yes | pip install streamlit-drawable-canvas --quiet &> /dev/null\n",
        "\n",
        "#For streamlit\n",
        "!pip install protobuf==4.21.1 &> /dev/null\n",
        "!pip -q install streamlit &> /dev/null\n",
        "!pip -q install pyngrok &> /dev/null\n",
        "\n",
        "import io\n",
        "import seaborn as sns\n",
        "import pandas as pd\n",
        "import matplotlib.pyplot as plt\n",
        "\n",
        "from IPython.display import display, Javascript\n",
        "from google.colab.output import eval_js\n",
        "from base64 import b64decode\n",
        "from IPython.display import Image\n",
        "import os\n",
        "import gdown\n",
        "\n",
        "\n",
        "def take_photo(filename='photo.jpg', quality=0.8):\n",
        "  js = Javascript('''\n",
        "    async function takePhoto(quality) {\n",
        "      const div = document.createElement('div');\n",
        "      const capture = document.createElement('button');\n",
        "      capture.textContent = 'Capture';\n",
        "      div.appendChild(capture);\n",
        "\n",
        "      const video = document.createElement('video');\n",
        "      video.style.display = 'block';\n",
        "      const stream = await navigator.mediaDevices.getUserMedia({video: true});\n",
        "\n",
        "      document.body.appendChild(div);\n",
        "      div.appendChild(video);\n",
        "      video.srcObject = stream;\n",
        "      await video.play();\n",
        "\n",
        "      // Resize the output to fit the video element.\n",
        "      google.colab.output.setIframeHeight(document.documentElement.scrollHeight, true);\n",
        "\n",
        "      // Wait for Capture to be clicked.\n",
        "      await new Promise((resolve) => capture.onclick = resolve);\n",
        "\n",
        "      const canvas = document.createElement('canvas');\n",
        "      canvas.width = video.videoWidth;\n",
        "      canvas.height = video.videoHeight;\n",
        "      canvas.getContext('2d').drawImage(video, 0, 0);\n",
        "      stream.getVideoTracks()[0].stop();\n",
        "      div.remove();\n",
        "      return canvas.toDataURL('image/jpeg', quality);\n",
        "    }\n",
        "    ''')\n",
        "  display(js)\n",
        "  data = eval_js('takePhoto({})'.format(quality))\n",
        "  binary = b64decode(data.split(',')[1])\n",
        "  with open(filename, 'wb') as f:\n",
        "    f.write(binary)\n",
        "  return filename\n",
        "\n",
        "def capture_image(filename):\n",
        "  try:\n",
        "    take_photo(filename)\n",
        "    print('Saved to {}'.format(filename))\n",
        "\n",
        "    # Show the image which was just taken.\n",
        "    display(Image(filename))\n",
        "  except Exception as err:\n",
        "    # Errors will be thrown if the user does not have a webcam or if they do not\n",
        "    # grant the page permission to access it.\n",
        "    print(str(err))\n",
        "\n",
        "import numpy as np\n",
        "import tensorflow as tf\n",
        "import cv2\n",
        "from google.colab.patches import cv2_imshow\n"
      ],
      "execution_count": null,
      "outputs": []
    },
    {
      "cell_type": "code",
      "metadata": {
        "id": "kVzy2rq07AQT",
        "cellView": "form"
      },
      "source": [
        "#@title Run this cell to upload and extract your model into Colab (make sure that your file has the name `converted_keras.zip`!)\n",
        "\n",
        "version_fn = getattr(tf.keras, \"version\", None)\n",
        "if version_fn and version_fn().startswith(\"3.\"):\n",
        "  import tf_keras as keras\n",
        "else:\n",
        "  keras = tf.keras\n",
        "\n",
        "# upload model zip file\n",
        "uploaded = files.upload()\n",
        "\n",
        "# extract model\n",
        "np.set_printoptions(suppress=True)\n",
        "try:\n",
        "  file_name = \"converted_keras.zip\"\n",
        "  print(\"Extracting model...\")\n",
        "  with zipfile.ZipFile(file_name, 'r') as zip_ref:\n",
        "      zip_ref.extractall('')\n",
        "\n",
        "  class_names = np.genfromtxt(\"labels.txt\", dtype=\"str\", delimiter='\\n')\n",
        "  for i in range(len(class_names)):\n",
        "    class_names[i] = ' '.join(class_names[i].split(' ')[1::])\n",
        "\n",
        "  predictions = [0.0] * len(class_names)\n",
        "\n",
        "  model = keras.models.load_model('keras_model.h5', compile=False)\n",
        "  print(\"Success! Model Extracted!\")\n",
        "except (IndexError, NameError):\n",
        "    print(\"Oops! Cannot find file to unzip. Please try uploading a zip file for your model\")\n",
        "\n",
        "def get_image_classification():\n",
        "  image_name = 'test.jpg'\n",
        "  image = cv2.imread(image_name)\n",
        "  cv2_imshow(image)\n",
        "  return classify_image(image_name)['classification']\n",
        "\n",
        "def get_image_predictions():\n",
        "  return classify_image('test.jpg')['predictions']\n",
        "\n",
        "def get_best_prediction():\n",
        "  return max(get_image_predictions())\n",
        "\n",
        "def classify_image(image_name):\n",
        "  image = cv2.imread(image_name)\n",
        "  image = cv2.resize(image,(224,224)).astype('float32')\n",
        "\n",
        "  image = np.reshape(image,(1,224,224,3))\n",
        "  image = image / 255\n",
        "\n",
        "  predictions = model.predict(image)[0]\n",
        "\n",
        "  pred_class = class_names[np.argmax(predictions)]\n",
        "\n",
        "  return {'classification': pred_class, 'predictions': predictions}\n"
      ],
      "execution_count": null,
      "outputs": []
    },
    {
      "cell_type": "code",
      "source": [
        "from google.colab import drive\n",
        "drive.mount('/content/drive')"
      ],
      "metadata": {
        "id": "Dv3TOraDMF9-"
      },
      "execution_count": null,
      "outputs": []
    },
    {
      "cell_type": "code",
      "metadata": {
        "id": "cYY0GVU_Dx7m"
      },
      "source": [
        "capture_image(\"test.jpg\")"
      ],
      "execution_count": null,
      "outputs": []
    },
    {
      "cell_type": "code",
      "metadata": {
        "id": "8-eImxSxlRM5"
      },
      "source": [
        "classification = get_image_classification()\n",
        "print(classification)"
      ],
      "execution_count": null,
      "outputs": []
    },
    {
      "cell_type": "code",
      "metadata": {
        "cellView": "form",
        "id": "FdAxPNXepWr4"
      },
      "source": [
        "#@title Test Sketch and Obtain Classification:\n",
        "\n",
        "\n",
        "canvas_html = \"\"\"\n",
        "<canvas width=%d height=%d></canvas>\n",
        "<br>\n",
        "<button>Save Image</button>\n",
        "<script>\n",
        "var canvas = document.querySelector('canvas')\n",
        "var ctx = canvas.getContext('2d')\n",
        "ctx.lineWidth = %d\n",
        "ctx.fillStyle = \"#eeeeee\";\n",
        "ctx.fillRect(0, 0, canvas.width, canvas.height);\n",
        "var button = document.querySelector('button')\n",
        "var mouse = {x: 0, y: 0}\n",
        "canvas.addEventListener('mousemove', function(e) {\n",
        "  mouse.x = e.pageX - this.offsetLeft\n",
        "  mouse.y = e.pageY - this.offsetTop\n",
        "})\n",
        "canvas.onmousedown = ()=>{\n",
        "  ctx.beginPath()\n",
        "  ctx.moveTo(mouse.x, mouse.y)\n",
        "  canvas.addEventListener('mousemove', onPaint)\n",
        "}\n",
        "canvas.onmouseup = ()=>{\n",
        "  canvas.removeEventListener('mousemove', onPaint)\n",
        "}\n",
        "var onPaint = ()=>{\n",
        "  ctx.lineTo(mouse.x, mouse.y)\n",
        "  ctx.stroke()\n",
        "}\n",
        "var data = new Promise(resolve=>{\n",
        "  button.onclick = ()=>{\n",
        "    resolve(canvas.toDataURL('image/png'))\n",
        "  }\n",
        "})\n",
        "</script>\n",
        "\"\"\"\n",
        "\n",
        "def get_image_classification():\n",
        "  image_name = 'test.png'\n",
        "  image = cv2.imread(image_name)\n",
        "  # cv2.imshow(image)\n",
        "  return classify_image(image_name)['classification']\n",
        "\n",
        "def get_image_predictions():\n",
        "  return classify_image('test.png')['predictions']\n",
        "\n",
        "def get_best_prediction():\n",
        "  return max(get_image_predictions())\n",
        "\n",
        "def classify_image(image_name):\n",
        "  image = cv2.imread(image_name)\n",
        "  image = cv2.resize(image,(224, 224)).astype('float32')\n",
        "\n",
        "  image = np.reshape(image,(1,224, 224 ,3))\n",
        "  # image = image / 255\n",
        "\n",
        "  predictions = model.predict(image)[0]\n",
        "  class_list = ['Triangle','Circle','Square']\n",
        "  pred_class = class_list[np.argmax(predictions)]\n",
        "\n",
        "  return {'classification': pred_class, 'predictions': predictions}\n",
        "\n",
        "def test_sketch(w = 224, h = 224, line_width = 1):\n",
        "  path = ''\n",
        "  display(HTML(canvas_html % (w, h, line_width)))\n",
        "  data = eval_js(\"data\")\n",
        "  binary = b64decode(data.split(',')[1])\n",
        "  filename = 'test.png'\n",
        "  with open(os.path.join(path, filename), 'wb') as f:\n",
        "    f.write(binary)\n",
        "  print(\"Saved Image\")\n",
        "\n",
        "test_sketch()\n",
        "\n",
        "import seaborn as sns\n",
        "import numpy as np\n",
        "import cv2\n",
        "classification = get_image_classification()\n",
        "predictions = get_image_predictions()\n",
        "get_image_classification()\n",
        "\n",
        "class_list = ['Triangle','Circle','Square']\n",
        "print(\"classification: \" + classification)\n"
      ],
      "execution_count": null,
      "outputs": []
    },
    {
      "cell_type": "code",
      "metadata": {
        "id": "S9NQPnDZ06fg"
      },
      "source": [
        "###YOUR CODE HERE"
      ],
      "execution_count": null,
      "outputs": []
    },
    {
      "cell_type": "code",
      "metadata": {
        "id": "TblQOLqTvol2"
      },
      "source": [
        "###YOUR CODE HERE"
      ],
      "execution_count": null,
      "outputs": []
    },
    {
      "cell_type": "code",
      "metadata": {
        "id": "4TnVm1mGG78n"
      },
      "source": [
        "predictions = get_image_predictions()\n",
        "print(predictions)"
      ],
      "execution_count": null,
      "outputs": []
    },
    {
      "cell_type": "code",
      "metadata": {
        "id": "k5iaNuxf41Rq"
      },
      "source": [
        "###YOUR CODE HERE###"
      ],
      "execution_count": null,
      "outputs": []
    },
    {
      "cell_type": "code",
      "metadata": {
        "id": "1EdhkSlEI092"
      },
      "source": [
        "print(predictions)\n",
        "print(class_names)\n",
        "\n",
        "plt.ylim(0.00, 1.00)\n",
        "\n",
        "###YOUR CODE HERE\n",
        "\n",
        "chart = sns.barplot(x = None, y = None) #REPLACE THE 'None' WITH THE CORRECT DATA FOR X AND Y\n",
        "chart.set(xlabel=\"FILL ME IN\", ylabel = \"FILL ME IN\") #FILL IN THE X-AXIS AND Y-AXIS LABELS\n",
        "\n",
        "####\n",
        "\n",
        "\n",
        "plt.show()\n"
      ],
      "execution_count": null,
      "outputs": []
    },
    {
      "cell_type": "code",
      "metadata": {
        "id": "uWnYPWkRj1jU"
      },
      "source": [
        "%%writefile header.py\n",
        "import streamlit as st\n",
        "import streamlit.components.v1 as components\n",
        "\n",
        "def create_header():\n",
        "  # Create a title\n",
        "  # Create a header\n",
        "  # Create a subheader\n",
        "  pass"
      ],
      "execution_count": null,
      "outputs": []
    },
    {
      "cell_type": "code",
      "metadata": {
        "id": "QDFKE-reK7rA"
      },
      "source": [
        "%%writefile canvas_size.py\n",
        "\n",
        "def get_canvas_size():\n",
        "  #CHANGE THE WIDTH AND HEIGHT\n",
        "  width = 1\n",
        "  height = 1\n",
        "  return width, height"
      ],
      "execution_count": null,
      "outputs": []
    },
    {
      "cell_type": "code",
      "metadata": {
        "id": "WIEUa-8qE26z"
      },
      "source": [
        "%%writefile response.py\n",
        "import pandas as pd\n",
        "import streamlit as st\n",
        "import streamlit.components.v1 as components\n",
        "\n",
        "def get_app_response(classification, probability):\n",
        "  if classification == \"FILL ME IN\":\n",
        "    st.write(\"FILL ME IN\")\n",
        "  #ADD MORE IF / ELIF STATEMENTS HERE\n",
        "  else:\n",
        "    st.write(\"FILL ME IN\")"
      ],
      "execution_count": null,
      "outputs": []
    },
    {
      "cell_type": "code",
      "metadata": {
        "id": "ZGtuq6iYEny1",
        "cellView": "form"
      },
      "source": [
        "#@title Run this to set up your model in your app!\n",
        "%%writefile classifier.py\n",
        "import streamlit as st\n",
        "import streamlit.components.v1 as components\n",
        "\n",
        "import numpy as np\n",
        "import tensorflow as tf\n",
        "import cv2\n",
        "\n",
        "import tf_keras as keras\n",
        "\n",
        "class_names = np.genfromtxt(\"labels.txt\", dtype=\"str\", delimiter='\\n')\n",
        "for i in range(len(class_names)):\n",
        "  class_names[i] = ' '.join(class_names[i].split(' ')[1::])\n",
        "np.set_printoptions(suppress=True)\n",
        "\n",
        "model = keras.models.load_model('keras_model.h5', compile = False)\n",
        "\n",
        "def get_image_classification(image_data):\n",
        "    img = image_data\n",
        "    img32 = np.float32(img)\n",
        "    bgr = cv2.cvtColor(img32, cv2.COLOR_BGRA2BGR)\n",
        "    rgb = cv2.cvtColor(bgr, cv2.COLOR_BGR2RGB)\n",
        "\n",
        "    rgb = cv2.resize(rgb,(224,224)).astype('float32')\n",
        "    rgb = np.reshape(rgb,(1,224,224,3))\n",
        "    rgb = rgb / 255\n",
        "\n",
        "    predictions = model.predict(rgb)[0]\n",
        "    classification = class_names[np.argmax(predictions)]\n",
        "    return classification, predictions"
      ],
      "execution_count": null,
      "outputs": []
    }
  ]
}